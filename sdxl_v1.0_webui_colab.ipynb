{
 "cells": [
  {
   "cell_type": "code",
   "execution_count": null,
   "metadata": {},
   "outputs": [],
   "source": [
    "%cd /home/jovyan/workspace\n",
    "%env TF_CPP_MIN_LOG_LEVEL=1\n",
    "\n",
    "!git clone -b v2.5 https://dagshub.com/camenduru/ui\n",
    "!aria2c --console-log-level=error -c -x 16 -s 16 -k 1M https://huggingface.co/embed/upscale/resolve/main/4x-UltraSharp.pth -d /home/jovyan/workspace/ui/models/ESRGAN -o 4x-UltraSharp.pth\n",
    "!git clone https://github.com/camenduru/tunnels /home/jovyan/workspace/ui/extensions/tunnels\n",
    "!git clone https://github.com/etherealxx/batchlinks-webui /home/jovyan/workspace/ui/extensions/batchlinks-webui\n",
    "%cd /home/jovyan/workspace/ui\n",
    "!git reset --hard\n",
    "!git -C /home/jovyan/workspace/ui/repositories/stable-diffusion-stability-ai reset --hard\n",
    "\n",
    "!aria2c --console-log-level=error -c -x 16 -s 16 -k 1M https://huggingface.co/ckpt/sd_xl_base_1.0/resolve/main/sd_xl_base_1.0_0.9vae.safetensors -d /home/jovyan/workspace/ui/models/Stable-diffusion -o sd_xl_base_1.0.safetensors\n",
    "!aria2c --console-log-level=error -c -x 16 -s 16 -k 1M https://huggingface.co/ckpt/sd_xl_refiner_1.0/resolve/main/sd_xl_refiner_1.0_0.9vae.safetensors -d /home/jovyan/workspace/ui/models/Stable-diffusion -o sd_xl_refiner_1.0.safetensors\n",
    "\n",
    "!sed -i -e '''/from modules import launch_utils/a\\import os''' /home/jovyan/workspace/ui/launch.py\n",
    "!sed -i -e '''/        prepare_environment()/a\\        os.system\\(f\\\"\"\"sed -i -e ''\\\"s/dict()))/dict())).cuda()/g\\\"'' /home/jovyan/workspace/ui/repositories/stable-diffusion-stability-ai/ldm/util.py\"\"\")''' /home/jovyan/workspace/ui/launch.py\n",
    "!sed -i -e 's/\\[\"sd_model_checkpoint\"\\]/\\[\"sd_model_checkpoint\",\"sd_vae\",\"CLIP_stop_at_last_layers\"\\]/g' /home/jovyan/workspace/ui/modules/shared.py\n",
    "\n",
    "%cd /home/jovyan/workspace/ui\n",
    "!python launch.py --listen --xformers --enable-insecure-extension-access --theme dark --gradio-queue --disable-safe-unpickle --port 8000"
   ]
  }
 ],
 "metadata": {
  "language_info": {
   "name": "python"
  },
  "orig_nbformat": 4
 },
 "nbformat": 4,
 "nbformat_minor": 2
}
